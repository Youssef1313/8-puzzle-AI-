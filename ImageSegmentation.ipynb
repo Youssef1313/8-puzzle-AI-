{
  "nbformat": 4,
  "nbformat_minor": 0,
  "metadata": {
    "colab": {
      "name": "ImageSegmentation.ipynb",
      "provenance": [],
      "include_colab_link": true
    },
    "kernelspec": {
      "name": "python3",
      "display_name": "Python 3"
    }
  },
  "cells": [
    {
      "cell_type": "markdown",
      "metadata": {
        "id": "view-in-github",
        "colab_type": "text"
      },
      "source": [
        "<a href=\"https://colab.research.google.com/github/aghapygad336/8-puzzle-AI-/blob/master/ImageSegmentation.ipynb\" target=\"_parent\"><img src=\"https://colab.research.google.com/assets/colab-badge.svg\" alt=\"Open In Colab\"/></a>"
      ]
    },
    {
      "cell_type": "code",
      "metadata": {
        "id": "_qn3OPBQi5c5",
        "colab_type": "code",
        "colab": {}
      },
      "source": [
        "import os, sys, tarfile\n",
        "\n",
        "def extract(tar_url, extract_path='.'):\n",
        "    print tar_url\n",
        "    tar = tarfile.open(tar_url, 'r')\n",
        "    for item in tar:\n",
        "        tar.extract(item, extract_path)\n",
        "        if item.name.find(\".tgz\") != -1 or item.name.find(\".tar\") != -1:\n",
        "            extract(item.name, \"./\" + item.name[:item.name.rfind('/')])\n",
        "try:\n",
        "\n",
        "    extract(sys.argv[1] + '.tgz')\n",
        "    print 'Done.'\n",
        "except:\n",
        "    name = os.path.basename(sys.argv[0])\n",
        "    print name[:name.rfind('.')], '<filename>'"
      ],
      "execution_count": 0,
      "outputs": []
    }
  ]
}