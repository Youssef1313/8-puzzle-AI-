{
  "nbformat": 4,
  "nbformat_minor": 0,
  "metadata": {
    "colab": {
      "name": "Huffman.ipynb",
      "provenance": [],
      "include_colab_link": true
    },
    "kernelspec": {
      "name": "python3",
      "display_name": "Python 3"
    }
  },
  "cells": [
    {
      "cell_type": "markdown",
      "metadata": {
        "id": "view-in-github",
        "colab_type": "text"
      },
      "source": [
        "<a href=\"https://colab.research.google.com/github/aghapygad336/8-puzzle-AI-/blob/master/Huffman.ipynb\" target=\"_parent\"><img src=\"https://colab.research.google.com/assets/colab-badge.svg\" alt=\"Open In Colab\"/></a>"
      ]
    },
    {
      "cell_type": "markdown",
      "metadata": {
        "id": "LF4v61XhnxXQ",
        "colab_type": "text"
      },
      "source": [
        "The class HuffmanCoding takes complete path of the text file to be compressed as parameter. (as its data members store data specific to the input file).\n",
        "\n"
      ]
    },
    {
      "cell_type": "code",
      "metadata": {
        "id": "e5E7iq9cn04H",
        "colab_type": "code",
        "colab": {}
      },
      "source": [
        "import heapq\n",
        "import os"
      ],
      "execution_count": 0,
      "outputs": []
    }
  ]
}