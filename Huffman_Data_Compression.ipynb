{
  "nbformat": 4,
  "nbformat_minor": 0,
  "metadata": {
    "colab": {
      "name": "Huffman Data Compression.ipynb",
      "provenance": [],
      "include_colab_link": true
    },
    "kernelspec": {
      "name": "python3",
      "display_name": "Python 3"
    }
  },
  "cells": [
    {
      "cell_type": "markdown",
      "metadata": {
        "id": "view-in-github",
        "colab_type": "text"
      },
      "source": [
        "<a href=\"https://colab.research.google.com/github/aghapygad336/8-puzzle-AI-/blob/master/Huffman_Data_Compression.ipynb\" target=\"_parent\"><img src=\"https://colab.research.google.com/assets/colab-badge.svg\" alt=\"Open In Colab\"/></a>"
      ]
    },
    {
      "cell_type": "markdown",
      "metadata": {
        "id": "-inJSOGfXTls",
        "colab_type": "text"
      },
      "source": [
        "Determining Relative Frequencies.\n"
      ]
    },
    {
      "cell_type": "code",
      "metadata": {
        "id": "8u9iBMlBXS5y",
        "colab_type": "code",
        "colab": {}
      },
      "source": [
        "from collections import Counter \n",
        "freqs = Counter(\"aaabccdeeennnneeffg\")\n",
        "print(freqs)"
      ],
      "execution_count": 0,
      "outputs": []
    },
    {
      "cell_type": "code",
      "metadata": {
        "id": "rm6467MVX2h6",
        "colab_type": "code",
        "colab": {
          "base_uri": "https://localhost:8080/",
          "height": 34
        },
        "outputId": "3c33f8bf-6c7a-4d23-a995-ebbf7c1c11b4"
      },
      "source": [
        ""
      ],
      "execution_count": 17,
      "outputs": [
        {
          "output_type": "stream",
          "text": [
            "Counter({'e': 5, 'n': 4, 'a': 3, 'c': 2, 'f': 2, 'b': 1, 'd': 1, 'g': 1})\n"
          ],
          "name": "stdout"
        }
      ]
    }
  ]
}